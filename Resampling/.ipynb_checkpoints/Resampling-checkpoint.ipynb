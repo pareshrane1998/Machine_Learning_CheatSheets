{
 "cells": [
  {
   "cell_type": "markdown",
   "metadata": {},
   "source": [
    "# Imbalance Data"
   ]
  },
  {
   "cell_type": "code",
   "execution_count": 1,
   "metadata": {},
   "outputs": [],
   "source": [
    "import warnings\n",
    "warnings.filterwarnings(\"ignore\")"
   ]
  },
  {
   "cell_type": "code",
   "execution_count": 2,
   "metadata": {},
   "outputs": [],
   "source": [
    "import pandas as pd\n",
    "import numpy as np\n",
    "import matplotlib.pyplot as plt\n",
    "import seaborn as sns"
   ]
  },
  {
   "cell_type": "code",
   "execution_count": 3,
   "metadata": {},
   "outputs": [],
   "source": [
    "df = pd.read_csv(\"credit.csv\")"
   ]
  },
  {
   "cell_type": "code",
   "execution_count": 4,
   "metadata": {},
   "outputs": [
    {
     "data": {
      "text/html": [
       "<div>\n",
       "<style scoped>\n",
       "    .dataframe tbody tr th:only-of-type {\n",
       "        vertical-align: middle;\n",
       "    }\n",
       "\n",
       "    .dataframe tbody tr th {\n",
       "        vertical-align: top;\n",
       "    }\n",
       "\n",
       "    .dataframe thead th {\n",
       "        text-align: right;\n",
       "    }\n",
       "</style>\n",
       "<table border=\"1\" class=\"dataframe\">\n",
       "  <thead>\n",
       "    <tr style=\"text-align: right;\">\n",
       "      <th></th>\n",
       "      <th>Time</th>\n",
       "      <th>V1</th>\n",
       "      <th>V2</th>\n",
       "      <th>V3</th>\n",
       "      <th>V4</th>\n",
       "      <th>V5</th>\n",
       "      <th>V6</th>\n",
       "      <th>V7</th>\n",
       "      <th>V8</th>\n",
       "      <th>V9</th>\n",
       "      <th>...</th>\n",
       "      <th>V21</th>\n",
       "      <th>V22</th>\n",
       "      <th>V23</th>\n",
       "      <th>V24</th>\n",
       "      <th>V25</th>\n",
       "      <th>V26</th>\n",
       "      <th>V27</th>\n",
       "      <th>V28</th>\n",
       "      <th>Amount</th>\n",
       "      <th>Class</th>\n",
       "    </tr>\n",
       "  </thead>\n",
       "  <tbody>\n",
       "    <tr>\n",
       "      <td>0</td>\n",
       "      <td>39885.0</td>\n",
       "      <td>1.385745</td>\n",
       "      <td>-0.776183</td>\n",
       "      <td>-1.276504</td>\n",
       "      <td>-1.732802</td>\n",
       "      <td>1.456010</td>\n",
       "      <td>3.169421</td>\n",
       "      <td>-0.884741</td>\n",
       "      <td>0.730740</td>\n",
       "      <td>-1.056017</td>\n",
       "      <td>...</td>\n",
       "      <td>-0.621874</td>\n",
       "      <td>-1.564708</td>\n",
       "      <td>0.123824</td>\n",
       "      <td>1.000517</td>\n",
       "      <td>0.209903</td>\n",
       "      <td>0.827916</td>\n",
       "      <td>-0.064076</td>\n",
       "      <td>0.009821</td>\n",
       "      <td>41.94</td>\n",
       "      <td>0</td>\n",
       "    </tr>\n",
       "    <tr>\n",
       "      <td>1</td>\n",
       "      <td>160679.0</td>\n",
       "      <td>-1.509015</td>\n",
       "      <td>1.445546</td>\n",
       "      <td>-0.288465</td>\n",
       "      <td>-2.599796</td>\n",
       "      <td>0.031683</td>\n",
       "      <td>-1.161685</td>\n",
       "      <td>0.473007</td>\n",
       "      <td>0.802321</td>\n",
       "      <td>-0.222380</td>\n",
       "      <td>...</td>\n",
       "      <td>-0.202615</td>\n",
       "      <td>-0.777421</td>\n",
       "      <td>-0.045253</td>\n",
       "      <td>-0.348450</td>\n",
       "      <td>0.002970</td>\n",
       "      <td>0.383022</td>\n",
       "      <td>0.076898</td>\n",
       "      <td>0.082978</td>\n",
       "      <td>4.00</td>\n",
       "      <td>0</td>\n",
       "    </tr>\n",
       "    <tr>\n",
       "      <td>2</td>\n",
       "      <td>170043.0</td>\n",
       "      <td>-1.329675</td>\n",
       "      <td>1.671851</td>\n",
       "      <td>-0.668253</td>\n",
       "      <td>-1.316477</td>\n",
       "      <td>0.888102</td>\n",
       "      <td>-0.419414</td>\n",
       "      <td>-0.257771</td>\n",
       "      <td>-2.296987</td>\n",
       "      <td>-0.658676</td>\n",
       "      <td>...</td>\n",
       "      <td>-1.505724</td>\n",
       "      <td>-0.501284</td>\n",
       "      <td>0.140584</td>\n",
       "      <td>0.347481</td>\n",
       "      <td>-0.345795</td>\n",
       "      <td>-0.072878</td>\n",
       "      <td>-0.079008</td>\n",
       "      <td>0.114091</td>\n",
       "      <td>1.29</td>\n",
       "      <td>0</td>\n",
       "    </tr>\n",
       "    <tr>\n",
       "      <td>3</td>\n",
       "      <td>29820.0</td>\n",
       "      <td>-1.300095</td>\n",
       "      <td>1.004770</td>\n",
       "      <td>1.226453</td>\n",
       "      <td>0.143031</td>\n",
       "      <td>0.302872</td>\n",
       "      <td>-0.473174</td>\n",
       "      <td>1.110003</td>\n",
       "      <td>0.105973</td>\n",
       "      <td>-0.758082</td>\n",
       "      <td>...</td>\n",
       "      <td>-0.357558</td>\n",
       "      <td>-1.149148</td>\n",
       "      <td>0.012885</td>\n",
       "      <td>0.003805</td>\n",
       "      <td>-0.212856</td>\n",
       "      <td>-1.001165</td>\n",
       "      <td>-0.249979</td>\n",
       "      <td>-0.272285</td>\n",
       "      <td>83.00</td>\n",
       "      <td>0</td>\n",
       "    </tr>\n",
       "    <tr>\n",
       "      <td>4</td>\n",
       "      <td>84933.0</td>\n",
       "      <td>-1.209733</td>\n",
       "      <td>1.249704</td>\n",
       "      <td>1.185233</td>\n",
       "      <td>-0.112195</td>\n",
       "      <td>0.388526</td>\n",
       "      <td>-0.921451</td>\n",
       "      <td>1.410460</td>\n",
       "      <td>-0.761339</td>\n",
       "      <td>0.480302</td>\n",
       "      <td>...</td>\n",
       "      <td>-0.018978</td>\n",
       "      <td>0.304157</td>\n",
       "      <td>-0.212971</td>\n",
       "      <td>0.377686</td>\n",
       "      <td>0.254317</td>\n",
       "      <td>-0.606180</td>\n",
       "      <td>-0.663626</td>\n",
       "      <td>-0.142206</td>\n",
       "      <td>28.00</td>\n",
       "      <td>0</td>\n",
       "    </tr>\n",
       "  </tbody>\n",
       "</table>\n",
       "<p>5 rows × 31 columns</p>\n",
       "</div>"
      ],
      "text/plain": [
       "       Time        V1        V2        V3        V4        V5        V6  \\\n",
       "0   39885.0  1.385745 -0.776183 -1.276504 -1.732802  1.456010  3.169421   \n",
       "1  160679.0 -1.509015  1.445546 -0.288465 -2.599796  0.031683 -1.161685   \n",
       "2  170043.0 -1.329675  1.671851 -0.668253 -1.316477  0.888102 -0.419414   \n",
       "3   29820.0 -1.300095  1.004770  1.226453  0.143031  0.302872 -0.473174   \n",
       "4   84933.0 -1.209733  1.249704  1.185233 -0.112195  0.388526 -0.921451   \n",
       "\n",
       "         V7        V8        V9  ...       V21       V22       V23       V24  \\\n",
       "0 -0.884741  0.730740 -1.056017  ... -0.621874 -1.564708  0.123824  1.000517   \n",
       "1  0.473007  0.802321 -0.222380  ... -0.202615 -0.777421 -0.045253 -0.348450   \n",
       "2 -0.257771 -2.296987 -0.658676  ... -1.505724 -0.501284  0.140584  0.347481   \n",
       "3  1.110003  0.105973 -0.758082  ... -0.357558 -1.149148  0.012885  0.003805   \n",
       "4  1.410460 -0.761339  0.480302  ... -0.018978  0.304157 -0.212971  0.377686   \n",
       "\n",
       "        V25       V26       V27       V28  Amount  Class  \n",
       "0  0.209903  0.827916 -0.064076  0.009821   41.94      0  \n",
       "1  0.002970  0.383022  0.076898  0.082978    4.00      0  \n",
       "2 -0.345795 -0.072878 -0.079008  0.114091    1.29      0  \n",
       "3 -0.212856 -1.001165 -0.249979 -0.272285   83.00      0  \n",
       "4  0.254317 -0.606180 -0.663626 -0.142206   28.00      0  \n",
       "\n",
       "[5 rows x 31 columns]"
      ]
     },
     "execution_count": 4,
     "metadata": {},
     "output_type": "execute_result"
    }
   ],
   "source": [
    "df.head()"
   ]
  },
  {
   "cell_type": "code",
   "execution_count": 5,
   "metadata": {},
   "outputs": [
    {
     "data": {
      "text/plain": [
       "0    113727\n",
       "1       196\n",
       "Name: Class, dtype: int64"
      ]
     },
     "execution_count": 5,
     "metadata": {},
     "output_type": "execute_result"
    }
   ],
   "source": [
    "df[\"Class\"].value_counts()"
   ]
  },
  {
   "cell_type": "code",
   "execution_count": 6,
   "metadata": {},
   "outputs": [
    {
     "data": {
      "image/png": "[encoded data removed]",
      "text/plain": [
       "<Figure size 432x432 with 1 Axes>"
      ]
     },
     "metadata": {},
     "output_type": "display_data"
    }
   ],
   "source": [
    "plt.figure(figsize=(6,6))\n",
    "df[\"Class\"].value_counts().plot(kind=\"pie\",autopct=\"%1.1f%%\")\n",
    "plt.show()"
   ]
  },
  {
   "cell_type": "code",
   "execution_count": 7,
   "metadata": {},
   "outputs": [],
   "source": [
    "# its a highly imbalance data\n",
    "# hence most of the time our model only predict 0\n",
    "# it wil rarely able to predict 1 because it mostly train on 0's"
   ]
  },
  {
   "cell_type": "markdown",
   "metadata": {},
   "source": [
    "## Baseline Model"
   ]
  },
  {
   "cell_type": "code",
   "execution_count": 8,
   "metadata": {},
   "outputs": [],
   "source": [
    "from sklearn.linear_model import LogisticRegression\n",
    "from sklearn.model_selection import train_test_split\n",
    "from sklearn.metrics import classification_report"
   ]
  },
  {
   "cell_type": "code",
   "execution_count": 9,
   "metadata": {},
   "outputs": [],
   "source": [
    "x = df.iloc[:,:-1]\n",
    "y = df.iloc[:,-1]"
   ]
  },
  {
   "cell_type": "code",
   "execution_count": 10,
   "metadata": {},
   "outputs": [],
   "source": [
    "log = LogisticRegression()"
   ]
  },
  {
   "cell_type": "code",
   "execution_count": 11,
   "metadata": {},
   "outputs": [],
   "source": [
    "x_train, x_test, y_train, y_test = train_test_split(x,y,test_size=0.3,random_state=1)"
   ]
  },
  {
   "cell_type": "code",
   "execution_count": 12,
   "metadata": {},
   "outputs": [
    {
     "data": {
      "text/plain": [
       "LogisticRegression(C=1.0, class_weight=None, dual=False, fit_intercept=True,\n",
       "                   intercept_scaling=1, l1_ratio=None, max_iter=100,\n",
       "                   multi_class='warn', n_jobs=None, penalty='l2',\n",
       "                   random_state=None, solver='warn', tol=0.0001, verbose=0,\n",
       "                   warm_start=False)"
      ]
     },
     "execution_count": 12,
     "metadata": {},
     "output_type": "execute_result"
    }
   ],
   "source": [
    "log.fit(x_train,y_train)"
   ]
  },
  {
   "cell_type": "code",
   "execution_count": 13,
   "metadata": {},
   "outputs": [],
   "source": [
    "y_pred = log.predict(x_test)"
   ]
  },
  {
   "cell_type": "code",
   "execution_count": 14,
   "metadata": {},
   "outputs": [
    {
     "name": "stdout",
     "output_type": "stream",
     "text": [
      "              precision    recall  f1-score   support\n",
      "\n",
      "           0       1.00      1.00      1.00     34124\n",
      "           1       0.78      0.66      0.71        53\n",
      "\n",
      "    accuracy                           1.00     34177\n",
      "   macro avg       0.89      0.83      0.86     34177\n",
      "weighted avg       1.00      1.00      1.00     34177\n",
      "\n"
     ]
    }
   ],
   "source": [
    "print(classification_report(y_test,y_pred))"
   ]
  },
  {
   "cell_type": "markdown",
   "metadata": {},
   "source": [
    "## Resampling Technique"
   ]
  },
  {
   "cell_type": "markdown",
   "metadata": {},
   "source": [
    "### Undersampling"
   ]
  },
  {
   "cell_type": "code",
   "execution_count": 15,
   "metadata": {},
   "outputs": [],
   "source": [
    "from imblearn.under_sampling import RandomUnderSampler"
   ]
  },
  {
   "cell_type": "code",
   "execution_count": 16,
   "metadata": {},
   "outputs": [],
   "source": [
    "rus = RandomUnderSampler(random_state = 1)"
   ]
  },
  {
   "cell_type": "code",
   "execution_count": 17,
   "metadata": {},
   "outputs": [],
   "source": [
    "x_sample1,y_sample1 = rus.fit_sample(x_train,y_train)"
   ]
  },
  {
   "cell_type": "code",
   "execution_count": 19,
   "metadata": {},
   "outputs": [
    {
     "data": {
      "text/plain": [
       "1    143\n",
       "0    143\n",
       "dtype: int64"
      ]
     },
     "execution_count": 19,
     "metadata": {},
     "output_type": "execute_result"
    }
   ],
   "source": [
    "pd.Series(y_sample1).value_counts()"
   ]
  },
  {
   "cell_type": "code",
   "execution_count": 22,
   "metadata": {},
   "outputs": [
    {
     "data": {
      "text/plain": [
       "LogisticRegression(C=1.0, class_weight=None, dual=False, fit_intercept=True,\n",
       "                   intercept_scaling=1, l1_ratio=None, max_iter=100,\n",
       "                   multi_class='warn', n_jobs=None, penalty='l2',\n",
       "                   random_state=None, solver='warn', tol=0.0001, verbose=0,\n",
       "                   warm_start=False)"
      ]
     },
     "execution_count": 22,
     "metadata": {},
     "output_type": "execute_result"
    }
   ],
   "source": [
    "lr2 = LogisticRegression()\n",
    "lr2.fit(x_sample1,y_sample1)"
   ]
  },
  {
   "cell_type": "code",
   "execution_count": 23,
   "metadata": {},
   "outputs": [],
   "source": [
    "y_pred2 = lr2.predict(x_test)"
   ]
  },
  {
   "cell_type": "code",
   "execution_count": 25,
   "metadata": {},
   "outputs": [
    {
     "name": "stdout",
     "output_type": "stream",
     "text": [
      "              precision    recall  f1-score   support\n",
      "\n",
      "           0       1.00      0.92      0.96     34124\n",
      "           1       0.02      0.94      0.04        53\n",
      "\n",
      "    accuracy                           0.92     34177\n",
      "   macro avg       0.51      0.93      0.50     34177\n",
      "weighted avg       1.00      0.92      0.96     34177\n",
      "\n"
     ]
    }
   ],
   "source": [
    "print(classification_report(y_test,y_pred2))"
   ]
  },
  {
   "cell_type": "markdown",
   "metadata": {},
   "source": [
    "### Over Sampleing"
   ]
  },
  {
   "cell_type": "code",
   "execution_count": 27,
   "metadata": {},
   "outputs": [],
   "source": [
    "from imblearn.over_sampling import RandomOverSampler"
   ]
  },
  {
   "cell_type": "code",
   "execution_count": 28,
   "metadata": {},
   "outputs": [],
   "source": [
    "ros = RandomOverSampler(random_state = 1)"
   ]
  },
  {
   "cell_type": "code",
   "execution_count": 29,
   "metadata": {},
   "outputs": [],
   "source": [
    "x_sample2,y_sample2 = ros.fit_sample(x_train,y_train)"
   ]
  },
  {
   "cell_type": "code",
   "execution_count": 30,
   "metadata": {},
   "outputs": [
    {
     "data": {
      "text/plain": [
       "1    79603\n",
       "0    79603\n",
       "dtype: int64"
      ]
     },
     "execution_count": 30,
     "metadata": {},
     "output_type": "execute_result"
    }
   ],
   "source": [
    "pd.Series(y_sample2).value_counts()"
   ]
  },
  {
   "cell_type": "code",
   "execution_count": 31,
   "metadata": {},
   "outputs": [
    {
     "data": {
      "text/plain": [
       "LogisticRegression(C=1.0, class_weight=None, dual=False, fit_intercept=True,\n",
       "                   intercept_scaling=1, l1_ratio=None, max_iter=100,\n",
       "                   multi_class='warn', n_jobs=None, penalty='l2',\n",
       "                   random_state=None, solver='warn', tol=0.0001, verbose=0,\n",
       "                   warm_start=False)"
      ]
     },
     "execution_count": 31,
     "metadata": {},
     "output_type": "execute_result"
    }
   ],
   "source": [
    "lr3 = LogisticRegression()\n",
    "lr3.fit(x_sample2,y_sample2)"
   ]
  },
  {
   "cell_type": "code",
   "execution_count": 32,
   "metadata": {},
   "outputs": [],
   "source": [
    "y_pred3 = lr3.predict(x_test)"
   ]
  },
  {
   "cell_type": "code",
   "execution_count": 33,
   "metadata": {},
   "outputs": [
    {
     "name": "stdout",
     "output_type": "stream",
     "text": [
      "              precision    recall  f1-score   support\n",
      "\n",
      "           0       1.00      0.97      0.98     34124\n",
      "           1       0.04      0.92      0.08        53\n",
      "\n",
      "    accuracy                           0.97     34177\n",
      "   macro avg       0.52      0.95      0.53     34177\n",
      "weighted avg       1.00      0.97      0.98     34177\n",
      "\n"
     ]
    }
   ],
   "source": [
    "print(classification_report(y_test,y_pred3))"
   ]
  },
  {
   "cell_type": "code",
   "execution_count": null,
   "metadata": {},
   "outputs": [],
   "source": []
  }
 ],
 "metadata": {
  "kernelspec": {
   "display_name": "Python 3",
   "language": "python",
   "name": "python3"
  },
  "language_info": {
   "codemirror_mode": {
    "name": "ipython",
    "version": 3
   },
   "file_extension": ".py",
   "mimetype": "text/x-python",
   "name": "python",
   "nbconvert_exporter": "python",
   "pygments_lexer": "ipython3",
   "version": "3.7.4"
  }
 },
 "nbformat": 4,
 "nbformat_minor": 2
}
